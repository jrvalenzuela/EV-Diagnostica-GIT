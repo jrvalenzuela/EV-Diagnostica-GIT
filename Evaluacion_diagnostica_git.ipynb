{
 "cells": [
  {
   "cell_type": "code",
   "execution_count": 1,
   "metadata": {},
   "outputs": [],
   "source": [
    "import re\n",
    "import json"
   ]
  },
  {
   "cell_type": "code",
   "execution_count": 2,
   "metadata": {},
   "outputs": [],
   "source": [
    "def topTenRetweeted(Tweets):\n",
    "    top = sorted(Tweets, key=lambda d: d['retweetCount'])[::-1][0:9]\n",
    "    return top "
   ]
  },
  {
   "cell_type": "code",
   "execution_count": 10,
   "metadata": {},
   "outputs": [],
   "source": [
    "def topTenUsers(Tweets):\n",
    "    userDict = {}\n",
    "    top = []\n",
    "    for tweet in Tweets:\n",
    "        if tweet[\"user\"][\"username\"] in userDict.keys():\n",
    "            userDict[tweet[\"user\"][\"username\"]] += 1\n",
    "        else:\n",
    "            userDict[tweet[\"user\"][\"username\"]] = 1\n",
    "    for i in range(10):\n",
    "        user = max(listilla, key=listilla.get)\n",
    "        top.append(user)\n",
    "        userDict.pop(user)\n",
    "    return userDict"
   ]
  },
  {
   "cell_type": "code",
   "execution_count": 4,
   "metadata": {},
   "outputs": [],
   "source": [
    "tweetList = []\n",
    "with open('farmers-protest-tweets-2021-03-5.json','r') as tweets:\n",
    "    for tweet in tweets:\n",
    "        tweetDict = json.loads(tweet)\n",
    "        tweetList.append(tweetDict)"
   ]
  },
  {
   "cell_type": "code",
   "execution_count": null,
   "metadata": {},
   "outputs": [],
   "source": [
    "print(topTenRetweeted(tweetList))"
   ]
  },
  {
   "cell_type": "code",
   "execution_count": 14,
   "metadata": {},
   "outputs": [
    {
     "name": "stdout",
     "output_type": "stream",
     "text": [
      "harjot_tweeting\n"
     ]
    }
   ],
   "source": [
    "listilla = topTenUsers(tweetList)\n",
    "print(max(listilla, key=listilla.get)) "
   ]
  }
 ],
 "metadata": {
  "kernelspec": {
   "display_name": "Python 3",
   "language": "python",
   "name": "python3"
  },
  "language_info": {
   "codemirror_mode": {
    "name": "ipython",
    "version": 3
   },
   "file_extension": ".py",
   "mimetype": "text/x-python",
   "name": "python",
   "nbconvert_exporter": "python",
   "pygments_lexer": "ipython3",
   "version": "3.8.6"
  }
 },
 "nbformat": 4,
 "nbformat_minor": 4
}
