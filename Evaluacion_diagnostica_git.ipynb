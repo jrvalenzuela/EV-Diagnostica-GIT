{
 "cells": [
  {
   "cell_type": "code",
   "execution_count": 1,
   "metadata": {},
   "outputs": [],
   "source": [
    "import re\n",
    "import json"
   ]
  },
  {
   "cell_type": "code",
   "execution_count": 2,
   "metadata": {},
   "outputs": [],
   "source": [
    "def topTenRetweeted(Tweets):\n",
    "    top = sorted(Tweets, key=lambda d: d['retweetCount'])[::-1][0:9]\n",
    "    return top "
   ]
  },
  {
   "cell_type": "code",
<<<<<<< HEAD
   "execution_count": 10,
=======
   "execution_count": 19,
>>>>>>> top_10_days
   "metadata": {},
   "outputs": [],
   "source": [
    "def topTenUsers(Tweets):\n",
    "    userDict = {}\n",
    "    top = []\n",
    "    for tweet in Tweets:\n",
    "        if tweet[\"user\"][\"username\"] in userDict.keys():\n",
    "            userDict[tweet[\"user\"][\"username\"]] += 1\n",
    "        else:\n",
    "            userDict[tweet[\"user\"][\"username\"]] = 1\n",
    "    for i in range(10):\n",
<<<<<<< HEAD
    "        user = max(listilla, key=listilla.get)\n",
    "        top.append(user)\n",
    "        userDict.pop(user)\n",
    "    return userDict"
=======
    "        user = max(userDict, key=userDict.get)\n",
    "        top.append(user)\n",
    "        userDict.pop(user)\n",
    "    return top"
   ]
  },
  {
   "cell_type": "code",
   "execution_count": 45,
   "metadata": {},
   "outputs": [],
   "source": [
    "def topTenDays(Tweets):\n",
    "    daysDict = {}\n",
    "    top = []\n",
    "    for tweet in Tweets:\n",
    "        if tweet[\"date\"][:10] in daysDict.keys():\n",
    "            daysDict[tweet[\"date\"][:10]] += 1\n",
    "        else:\n",
    "            daysDict[tweet[\"date\"][:10]] = 1\n",
    "    for i in range(10):\n",
    "        day = max(daysDict, key=daysDict.get)\n",
    "        top.append(day)\n",
    "        daysDict.pop(day)\n",
    "    return top"
>>>>>>> top_10_days
   ]
  },
  {
   "cell_type": "code",
   "execution_count": 4,
   "metadata": {},
   "outputs": [],
   "source": [
    "tweetList = []\n",
    "with open('farmers-protest-tweets-2021-03-5.json','r') as tweets:\n",
    "    for tweet in tweets:\n",
    "        tweetDict = json.loads(tweet)\n",
    "        tweetList.append(tweetDict)"
   ]
  },
  {
   "cell_type": "code",
   "execution_count": null,
   "metadata": {},
   "outputs": [],
   "source": [
    "print(topTenRetweeted(tweetList))"
   ]
  },
  {
   "cell_type": "code",
<<<<<<< HEAD
   "execution_count": 14,
=======
   "execution_count": 20,
>>>>>>> top_10_days
   "metadata": {},
   "outputs": [
    {
     "name": "stdout",
     "output_type": "stream",
     "text": [
<<<<<<< HEAD
      "harjot_tweeting\n"
=======
      "['harjot_tweeting', 'tasveersandhu', 'shells_n_petals', 'jot__b', 'rebelpacifist', 'rumsomal', 'Iamjazzie96', 'Jass_k_G', 'DigitalKisanBot', 'z_khalique007']\n"
>>>>>>> top_10_days
     ]
    }
   ],
   "source": [
<<<<<<< HEAD
    "listilla = topTenUsers(tweetList)\n",
    "print(max(listilla, key=listilla.get)) "
=======
    "print(topTenUsers(tweetList))"
   ]
  },
  {
   "cell_type": "code",
   "execution_count": 46,
   "metadata": {},
   "outputs": [
    {
     "name": "stdout",
     "output_type": "stream",
     "text": [
      "{'2021-03-30': 576, '2021-03-29': 2118, '2021-03-28': 2432, '2021-03-27': 2995, '2021-03-26': 3958, '2021-03-25': 2584, '2021-03-24': 2193, '2021-03-23': 2382, '2021-03-22': 2138, '2021-03-21': 2650, '2021-03-20': 2595, '2021-03-19': 2516, '2021-03-18': 2964, '2021-03-17': 2451, '2021-03-16': 3113, '2021-03-15': 2411, '2021-03-14': 2091, '2021-03-13': 2492, '2021-03-12': 2230, '2021-03-11': 2238, '2021-03-10': 2770, '2021-03-09': 2775, '2021-03-08': 2603, '2021-03-07': 1994, '2021-03-06': 3477, '2021-03-05': 3181, '2021-03-04': 2625, '2021-03-03': 2468, '2021-03-02': 3214, '2021-03-01': 2827, '2021-02-28': 3035, '2021-02-27': 3267, '2021-02-26': 3598, '2021-02-25': 3654, '2021-02-24': 3244, '2021-02-23': 3641, '2021-02-22': 3278, '2021-02-21': 3500, '2021-02-20': 4003, '2021-02-19': 3735, '2021-02-18': 3875, '2021-02-17': 5015, '2021-02-16': 4523, '2021-02-15': 4413, '2021-02-14': 4561, '2021-02-13': 4599, '2021-02-12': 4961, '2021-02-11': 5698, '2021-02-10': 7973, '2021-02-09': 9320, '2021-02-08': 8920, '2021-02-07': 11325, '2021-02-06': 22420, '2021-02-05': 33332, '2021-02-04': 58607, '2021-02-03': 83866, '2021-02-02': 28548, '2021-02-01': 5535}\n"
     ]
    },
    {
     "data": {
      "text/plain": [
       "['2021-02-03',\n",
       " '2021-02-04',\n",
       " '2021-02-05',\n",
       " '2021-02-02',\n",
       " '2021-02-06',\n",
       " '2021-02-07',\n",
       " '2021-02-09',\n",
       " '2021-02-08',\n",
       " '2021-02-10',\n",
       " '2021-02-11']"
      ]
     },
     "execution_count": 46,
     "metadata": {},
     "output_type": "execute_result"
    }
   ],
   "source": [
    "topTenDays(tweetList)"
>>>>>>> top_10_days
   ]
  }
 ],
 "metadata": {
  "kernelspec": {
   "display_name": "Python 3",
   "language": "python",
   "name": "python3"
  },
  "language_info": {
   "codemirror_mode": {
    "name": "ipython",
    "version": 3
   },
   "file_extension": ".py",
   "mimetype": "text/x-python",
   "name": "python",
   "nbconvert_exporter": "python",
   "pygments_lexer": "ipython3",
   "version": "3.8.6"
  }
 },
 "nbformat": 4,
 "nbformat_minor": 4
}
