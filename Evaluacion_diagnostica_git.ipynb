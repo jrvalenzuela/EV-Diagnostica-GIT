{
 "cells": [
  {
   "cell_type": "markdown",
   "metadata": {},
   "source": [
    "# Evaluación Diagnostica GIT"
   ]
  },
  {
   "cell_type": "code",
   "execution_count": 9,
   "metadata": {},
   "outputs": [],
   "source": [
    "import re\n",
    "import json"
   ]
  },
  {
   "cell_type": "markdown",
   "metadata": {},
   "source": [
    "### Top 10 tweets más retweeteados"
   ]
  },
  {
   "cell_type": "markdown",
   "metadata": {},
   "source": [
    "retorna una lista ordenada con los 10 tweets más retweeteados (incluye toda la información del tweet)"
   ]
  },
  {
   "cell_type": "code",
   "execution_count": 10,
   "metadata": {},
   "outputs": [],
   "source": [
    "def topTenRetweeted(Tweets):\n",
    "    top = sorted(Tweets, key=lambda d: d['retweetCount'])[::-1][0:9]\n",
    "    return top "
   ]
  },
  {
   "cell_type": "markdown",
   "metadata": {},
   "source": [
    "### Top 10 Users con más tweets"
   ]
  },
  {
   "cell_type": "markdown",
   "metadata": {},
   "source": [
    "retorna una lista ordenada con los 10 usuarios que publicaron más tweets, junto con la cantidad de tweets que publicaron."
   ]
  },
  {
   "cell_type": "code",
   "execution_count": 11,
   "metadata": {},
   "outputs": [],
   "source": [
    "def topTenUsers(Tweets):\n",
    "    userDict = {}\n",
    "    top = []\n",
    "    for tweet in Tweets:\n",
    "        if tweet[\"user\"][\"username\"] in userDict.keys():\n",
    "            userDict[tweet[\"user\"][\"username\"]] += 1\n",
    "        else:\n",
    "            userDict[tweet[\"user\"][\"username\"]] = 1\n",
    "    for i in range(10):\n",
    "        user = max(userDict, key=userDict.get)\n",
    "        top.append([user, userDict[user]])\n",
    "        userDict.pop(user)\n",
    "    return top"
   ]
  },
  {
   "cell_type": "markdown",
   "metadata": {},
   "source": [
    "### Top 10 dias con más tweets"
   ]
  },
  {
   "cell_type": "markdown",
   "metadata": {},
   "source": [
    "retorna una lista ordenada con los 10 dias en que más se publicaron tweets, junto con la cantidad de tweets que se publicaron."
   ]
  },
  {
   "cell_type": "code",
   "execution_count": 12,
   "metadata": {},
   "outputs": [],
   "source": [
    "def topTenDays(Tweets):\n",
    "    daysDict = {}\n",
    "    top = []\n",
    "    for tweet in Tweets:\n",
    "        if tweet[\"date\"][:10] in daysDict.keys():\n",
    "            daysDict[tweet[\"date\"][:10]] += 1\n",
    "        else:\n",
    "            daysDict[tweet[\"date\"][:10]] = 1\n",
    "    for i in range(10):\n",
    "        day = max(daysDict, key=daysDict.get)\n",
    "        top.append([day, daysDict[day]])\n",
    "        daysDict.pop(day)\n",
    "    return top"
   ]
  },
  {
   "cell_type": "markdown",
   "metadata": {},
   "source": [
    "### Top 10 hashtags más usados"
   ]
  },
  {
   "cell_type": "markdown",
   "metadata": {},
   "source": [
    "retorna una lista ordenada con los 10 hashtags más usados, junto con la cantidad veces que se utilizaron"
   ]
  },
  {
   "cell_type": "code",
   "execution_count": 13,
   "metadata": {},
   "outputs": [],
   "source": [
    "def topTenHashtags(Tweets):\n",
    "    hashtagsDict = {}\n",
    "    top = []\n",
    "    for tweet in Tweets:\n",
    "        content = tweet[\"content\"].replace(\"\\n\", \"\").split(\" \")\n",
    "        for word in content:\n",
    "            if \"#\" in word:\n",
    "                if word in hashtagsDict.keys():\n",
    "                    hashtagsDict[word] += 1\n",
    "                else:\n",
    "                    hashtagsDict[word] = 1\n",
    "    for i in range(10):\n",
    "        hashtag = max(hashtagsDict, key=hashtagsDict.get)\n",
    "        top.append([hashtag, hashtagsDict[hashtag]])\n",
    "        hashtagsDict.pop(hashtag)\n",
    "             \n",
    "    return top"
   ]
  },
  {
   "cell_type": "markdown",
   "metadata": {},
   "source": [
    "## Main"
   ]
  },
  {
   "cell_type": "code",
   "execution_count": 14,
   "metadata": {},
   "outputs": [],
   "source": [
    "def main(choice, tweetList):\n",
    "    if choice == 0:\n",
    "        return topTenRetweeted(tweetList)\n",
    "    if choice == 1:\n",
    "        return topTenUsers(tweetList)\n",
    "    if choice == 2:\n",
    "        return topTenDays(tweetList)\n",
    "    if choice == 3:\n",
    "        return topTenHashtags(tweetList)"
   ]
  },
  {
   "cell_type": "markdown",
   "metadata": {},
   "source": [
    "aquí se carga el archivo json y se transforma a una lista de diccionarios"
   ]
  },
  {
   "cell_type": "code",
   "execution_count": 15,
   "metadata": {},
   "outputs": [],
   "source": [
    "tweetList = []\n",
    "with open('farmers-protest-tweets-2021-03-5.json','r') as tweets:\n",
    "    for tweet in tweets:\n",
    "        tweetDict = json.loads(tweet)\n",
    "        tweetList.append(tweetDict)"
   ]
  },
  {
   "cell_type": "code",
   "execution_count": 19,
   "metadata": {},
   "outputs": [
    {
     "name": "stdout",
     "output_type": "stream",
     "text": [
      "[['harjot_tweeting', 7134], ['tasveersandhu', 2091], ['shells_n_petals', 1991], ['jot__b', 1841], ['rebelpacifist', 1806], ['rumsomal', 1722], ['Iamjazzie96', 1502], ['Jass_k_G', 1460], ['DigitalKisanBot', 1453], ['z_khalique007', 1446]]\n"
     ]
    }
   ],
   "source": [
    "# 0: top 10 retweeted\n",
    "# 1: top 10 users\n",
    "# 2: top 10 days\n",
    "# 3: top 10 hashtag\n",
    "choice = 1\n",
    "print(main(choice, tweetList))"
   ]
  }
 ],
 "metadata": {
  "kernelspec": {
   "display_name": "Python 3",
   "language": "python",
   "name": "python3"
  },
  "language_info": {
   "codemirror_mode": {
    "name": "ipython",
    "version": 3
   },
   "file_extension": ".py",
   "mimetype": "text/x-python",
   "name": "python",
   "nbconvert_exporter": "python",
   "pygments_lexer": "ipython3",
   "version": "3.8.6"
  }
 },
 "nbformat": 4,
 "nbformat_minor": 4
}
